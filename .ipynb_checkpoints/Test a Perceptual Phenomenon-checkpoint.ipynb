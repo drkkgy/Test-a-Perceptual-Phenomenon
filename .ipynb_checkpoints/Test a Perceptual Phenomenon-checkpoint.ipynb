{
 "cells": [
  {
   "cell_type": "markdown",
   "metadata": {},
   "source": [
    "# Test a Perceptual Phenomenon"
   ]
  },
  {
   "cell_type": "code",
   "execution_count": 145,
   "metadata": {},
   "outputs": [],
   "source": [
    "## Importing pandas library and numpy for processing the data to pull out the results \n",
    "## and Matplotlib library for plotting grpahs\n",
    "\n",
    "import pandas as pd\n",
    "import numpy as np\n",
    "import matplotlib.pyplot as plt\n",
    "from math import * "
   ]
  },
  {
   "cell_type": "code",
   "execution_count": 146,
   "metadata": {
    "scrolled": true
   },
   "outputs": [
    {
     "data": {
      "text/html": [
       "<div>\n",
       "<style scoped>\n",
       "    .dataframe tbody tr th:only-of-type {\n",
       "        vertical-align: middle;\n",
       "    }\n",
       "\n",
       "    .dataframe tbody tr th {\n",
       "        vertical-align: top;\n",
       "    }\n",
       "\n",
       "    .dataframe thead th {\n",
       "        text-align: right;\n",
       "    }\n",
       "</style>\n",
       "<table border=\"1\" class=\"dataframe\">\n",
       "  <thead>\n",
       "    <tr style=\"text-align: right;\">\n",
       "      <th></th>\n",
       "      <th>Congruent</th>\n",
       "      <th>Incongruent</th>\n",
       "    </tr>\n",
       "  </thead>\n",
       "  <tbody>\n",
       "    <tr>\n",
       "      <th>0</th>\n",
       "      <td>12.079</td>\n",
       "      <td>19.278</td>\n",
       "    </tr>\n",
       "    <tr>\n",
       "      <th>1</th>\n",
       "      <td>16.791</td>\n",
       "      <td>18.741</td>\n",
       "    </tr>\n",
       "    <tr>\n",
       "      <th>2</th>\n",
       "      <td>9.564</td>\n",
       "      <td>21.214</td>\n",
       "    </tr>\n",
       "    <tr>\n",
       "      <th>3</th>\n",
       "      <td>8.630</td>\n",
       "      <td>15.687</td>\n",
       "    </tr>\n",
       "    <tr>\n",
       "      <th>4</th>\n",
       "      <td>14.669</td>\n",
       "      <td>22.803</td>\n",
       "    </tr>\n",
       "  </tbody>\n",
       "</table>\n",
       "</div>"
      ],
      "text/plain": [
       "   Congruent  Incongruent\n",
       "0     12.079       19.278\n",
       "1     16.791       18.741\n",
       "2      9.564       21.214\n",
       "3      8.630       15.687\n",
       "4     14.669       22.803"
      ]
     },
     "execution_count": 146,
     "metadata": {},
     "output_type": "execute_result"
    }
   ],
   "source": [
    "## Loading the data in pandas data frame\n",
    "\n",
    "stroop_data = pd.read_csv('./stroopdata.csv')\n",
    "\n",
    "## Displaying the table\n",
    "\n",
    "stroop_data.head(5)\n"
   ]
  },
  {
   "cell_type": "code",
   "execution_count": 147,
   "metadata": {},
   "outputs": [
    {
     "data": {
      "text/html": [
       "<div>\n",
       "<style scoped>\n",
       "    .dataframe tbody tr th:only-of-type {\n",
       "        vertical-align: middle;\n",
       "    }\n",
       "\n",
       "    .dataframe tbody tr th {\n",
       "        vertical-align: top;\n",
       "    }\n",
       "\n",
       "    .dataframe thead th {\n",
       "        text-align: right;\n",
       "    }\n",
       "</style>\n",
       "<table border=\"1\" class=\"dataframe\">\n",
       "  <thead>\n",
       "    <tr style=\"text-align: right;\">\n",
       "      <th></th>\n",
       "      <th>Congruent</th>\n",
       "      <th>Incongruent</th>\n",
       "      <th>S_no</th>\n",
       "    </tr>\n",
       "  </thead>\n",
       "  <tbody>\n",
       "    <tr>\n",
       "      <th>0</th>\n",
       "      <td>12.079</td>\n",
       "      <td>19.278</td>\n",
       "      <td>1</td>\n",
       "    </tr>\n",
       "    <tr>\n",
       "      <th>1</th>\n",
       "      <td>16.791</td>\n",
       "      <td>18.741</td>\n",
       "      <td>2</td>\n",
       "    </tr>\n",
       "    <tr>\n",
       "      <th>2</th>\n",
       "      <td>9.564</td>\n",
       "      <td>21.214</td>\n",
       "      <td>3</td>\n",
       "    </tr>\n",
       "    <tr>\n",
       "      <th>3</th>\n",
       "      <td>8.630</td>\n",
       "      <td>15.687</td>\n",
       "      <td>4</td>\n",
       "    </tr>\n",
       "    <tr>\n",
       "      <th>4</th>\n",
       "      <td>14.669</td>\n",
       "      <td>22.803</td>\n",
       "      <td>5</td>\n",
       "    </tr>\n",
       "  </tbody>\n",
       "</table>\n",
       "</div>"
      ],
      "text/plain": [
       "   Congruent  Incongruent  S_no\n",
       "0     12.079       19.278     1\n",
       "1     16.791       18.741     2\n",
       "2      9.564       21.214     3\n",
       "3      8.630       15.687     4\n",
       "4     14.669       22.803     5"
      ]
     },
     "execution_count": 147,
     "metadata": {},
     "output_type": "execute_result"
    }
   ],
   "source": [
    "## Numbering the Subject whose data is provided to us under the S_no Column\n",
    "stroop_data['S_no'] = stroop_data.index + 1\n",
    "stroop_data.head(5)"
   ]
  },
  {
   "cell_type": "markdown",
   "metadata": {},
   "source": [
    "## Q1 What is our independent variable? What is our dependent variable?\n",
    "\n",
    "## Ans :-\n",
    "\n",
    "\n",
    "- **1. Here the Congruent words and In-Congruent words are the independent parameters**\n",
    "\n",
    "\n",
    "- **2. While the Time taken to name the ink colour is the dependent variable**"
   ]
  },
  {
   "cell_type": "markdown",
   "metadata": {},
   "source": [
    "## Q2 What is an appropriate set of hypotheses for this task? What kind of statistical test do you expect to perform? Justify your choices.\n",
    "\n",
    "## Ans :-\n",
    "\n",
    "- Here we will consider the Null Hypothesis and a Alternative Hypothesis\n",
    "\n",
    "1. Null Hypothesis:- In this Hypothesis we generally make a statement without any proof or data and we don’t consider any relationship between the two variables it lacks observation\n",
    "\n",
    "\n",
    "2. Null Hypothesis is indirect and implicit and is denoted by H0(H-zero) and they carry‘=‘sign in their formulation\n",
    "\n",
    "\n",
    "3. Mathematical form H0 : μ = k, H0 : μ < = k, H0 : μ > = k\n",
    "\n",
    "\n",
    "4. Alternative Hypothesis is based on the statistical results and observation where we establish some relationship between the two variables based on the observation\n",
    "\n",
    "\n",
    "5. Alternative hypotheses is Direct and explicit and is denoted by H1(H-one) or Ha and they carry '≠'  sign in mathematical formulation\n",
    "\n",
    "6. Mathematical form H1 : μ ≠ k, H1 : μ > k, H1 : μ < k\n",
    "\n",
    "7. Here μ represents the parameters we are working with like proportion etc\n",
    "\n",
    "8. 'k’ or μI represents a content value or the intervention of the test\n",
    "\n",
    "###  Here we will choose The Dependent Samples t-Test  since both the congruent and incongruent words recognition have something in common i.e by performing one test the experience you gain(practice) can impact the other one slightly \n",
    "\n",
    "### Here we assume that given data set is a sample of a larger population hence we will perform dependent T test ."
   ]
  },
  {
   "cell_type": "markdown",
   "metadata": {},
   "source": [
    "## Q3 Report some descriptive statistics regarding this dataset. Include at least one measure of central tendency and at least one measure of variability.\n",
    "\n",
    "## Ans:-  \n",
    "\n",
    "- \n",
    "\n",
    "The Mean for both the groups ( Centeral Tendency) and  Standard deviation for both the groups ( Variability) are mentioned below"
   ]
  },
  {
   "cell_type": "code",
   "execution_count": 148,
   "metadata": {},
   "outputs": [
    {
     "name": "stdout",
     "output_type": "stream",
     "text": [
      "[12.079 16.791  9.564  8.63  14.669 12.238 14.692  8.987  9.401 14.48\n",
      " 22.328 15.298 15.073 16.929 18.2   12.13  18.495 10.639 11.344 12.369\n",
      " 12.944 14.233 19.71  16.004]\n",
      "[19.278 18.741 21.214 15.687 22.803 20.878 24.572 17.394 20.762 26.282\n",
      " 24.524 18.644 17.51  20.33  35.255 22.158 25.139 20.429 17.425 34.288\n",
      " 23.894 17.96  22.058 21.157]\n",
      "[ 1  2  3  4  5  6  7  8  9 10 11 12 13 14 15 16 17 18 19 20 21 22 23 24]\n"
     ]
    }
   ],
   "source": [
    "## Cconverting data frame to numpy arrays\n",
    "\n",
    "congruent = np.array(stroop_data['Congruent'])\n",
    "\n",
    "incongruent= np.array(stroop_data['Incongruent'])\n",
    "\n",
    "subject_sno = np.array(stroop_data['S_no']) \n",
    "\n",
    "## Checking the array \n",
    "\n",
    "print(congruent)\n",
    "\n",
    "print(incongruent)\n",
    "\n",
    "print(subject_sno)"
   ]
  },
  {
   "cell_type": "code",
   "execution_count": 149,
   "metadata": {},
   "outputs": [
    {
     "name": "stdout",
     "output_type": "stream",
     "text": [
      "Congruent words \n",
      "Mean = 14.05 \t STD = 3.48\n",
      "Congruent words \n",
      "Mean = 22.02 \t STD = 4.7\n"
     ]
    }
   ],
   "source": [
    "## Mean and STD for Congruent Words and In Congruent Word\n",
    "print(\"Congruent words \\nMean = {} \\t STD = {}\".format(round(congruent.mean(),2) , round(congruent.std(),2)))\n",
    "print(\"Congruent words \\nMean = {} \\t STD = {}\".format(round(incongruent.mean(),2), round(incongruent.std(),2)))\n",
    "\n",
    "\n",
    "\n",
    "\n",
    "\n"
   ]
  },
  {
   "cell_type": "markdown",
   "metadata": {},
   "source": [
    "## Q4 Provide one or two visualisations that show the distribution of the sample data. Write one or two sentences noting what you observe about the plot or plots.\n",
    "\n",
    "## ANS:- \n",
    "\n",
    "- Plots are drawn below"
   ]
  },
  {
   "cell_type": "code",
   "execution_count": 150,
   "metadata": {
    "scrolled": true
   },
   "outputs": [
    {
     "data": {
      "image/png": "[encoded data removed]",
      "text/plain": [
       "<Figure size 432x288 with 1 Axes>"
      ]
     },
     "metadata": {},
     "output_type": "display_data"
    }
   ],
   "source": [
    "## Plotting the scatter plot for Congruent variables\n",
    "# Fixing random state for reproducibility\n",
    "\n",
    "plt.plot(subject_sno, congruent, 'ro',alpha = 0.5,marker=r'o',label=\"Congruent\")\n",
    "plt.axis([0, 30, 0, 40])\n",
    "plt.xlabel(\"Subjects Sno\")\n",
    "plt.ylabel(\"Response Time (ms)\")\n",
    "plt.legend(loc=2)\n",
    "plt.show()\n",
    "\n"
   ]
  },
  {
   "cell_type": "code",
   "execution_count": 151,
   "metadata": {},
   "outputs": [
    {
     "data": {
      "image/png": "[encoded data removed]",
      "text/plain": [
       "<Figure size 432x288 with 1 Axes>"
      ]
     },
     "metadata": {},
     "output_type": "display_data"
    }
   ],
   "source": [
    "## Plotting the scatter plot for InCongruent variables\n",
    "# Fixing random state for reproducibility\n",
    "plt.plot(subject_sno, incongruent, 'ro',c='b',alpha = 0.5,marker=r'o',label=\"InCongruent\")\n",
    "plt.axis([0, 30, 0, 40])\n",
    "plt.xlabel(\"Subjects Sno\")\n",
    "plt.ylabel(\"Response Time (ms)\")\n",
    "plt.legend(loc=2)\n",
    "plt.show()\n"
   ]
  },
  {
   "cell_type": "markdown",
   "metadata": {},
   "source": [
    "### Observation :-\n",
    "\n",
    "- Again in the scatter plot we can see the range for max points in **congruent words is 8-20s**\n",
    "\n",
    "\n",
    "- While that of the **In-Congruent words is 15-30s**\n",
    "\n",
    "\n",
    "- Hence we can derive a infrence that Congruent words take less response time as compared to the Incongruent words"
   ]
  },
  {
   "cell_type": "markdown",
   "metadata": {},
   "source": [
    "## Q5 Now, perform the statistical test and report your results. What is your confidence level and your critical statistic value? Do you reject the null hypothesis or fail to reject it? Come to a conclusion in terms of the experiment task. Did the results match up with your expectations?"
   ]
  },
  {
   "cell_type": "markdown",
   "metadata": {},
   "source": [
    "### Hypothesis \n",
    "\n",
    "- **Null**        :- μ = μI \n",
    "- [Time required to recognise the congruent and incongruent word remians same]\n",
    "\n",
    "\n",
    "\n",
    "\n",
    "- **Alternative** :- μ ≠ μI \n",
    "- [Time required to recognise the congruent and incongruent word is not same]\n",
    "\n"
   ]
  },
  {
   "cell_type": "code",
   "execution_count": 152,
   "metadata": {
    "scrolled": true
   },
   "outputs": [
    {
     "name": "stdout",
     "output_type": "stream",
     "text": [
      "Dample size (n) =       24 \n",
      "Degree of freedom (df)= 23\n"
     ]
    }
   ],
   "source": [
    "n = len(stroop_data)\n",
    "df = n-1\n",
    "\n",
    "print( \"Dample size (n) =       {} \\nDegree of freedom (df)= {}\".format(n,df) )"
   ]
  },
  {
   "cell_type": "markdown",
   "metadata": {},
   "source": [
    "- Here we will perfomr **two tail** dependent variable t test \n",
    "\n",
    "- confidence value = 95% \n",
    "- $\\alpha$ = 0.05\n",
    "- t(critical) = $\\pm$2.069  using [t-table]('https://s3.amazonaws.com/udacity-hosted-downloads/t-table.jpg')\n",
    "- sample size n = 24\n",
    "- df(degree of freedom) = n-1 = 23 \n",
    "\n",
    "delete it\n",
    "$\\mu$c $\\mu$i"
   ]
  },
  {
   "cell_type": "code",
   "execution_count": 153,
   "metadata": {},
   "outputs": [
    {
     "name": "stdout",
     "output_type": "stream",
     "text": [
      "Point estimate P = 7.96\n"
     ]
    }
   ],
   "source": [
    "## Calcutating the point estimate \n",
    "## P = μi-μc (mean of incongruent - mean of congruen)\n",
    "\n",
    "point_estimate = incongruent.mean() - congruent.mean()\n",
    "\n",
    "print(\"Point estimate P = {}\".format(round(point_estimate,2)))\n"
   ]
  },
  {
   "cell_type": "code",
   "execution_count": 154,
   "metadata": {},
   "outputs": [
    {
     "data": {
      "text/html": [
       "<div>\n",
       "<style scoped>\n",
       "    .dataframe tbody tr th:only-of-type {\n",
       "        vertical-align: middle;\n",
       "    }\n",
       "\n",
       "    .dataframe tbody tr th {\n",
       "        vertical-align: top;\n",
       "    }\n",
       "\n",
       "    .dataframe thead th {\n",
       "        text-align: right;\n",
       "    }\n",
       "</style>\n",
       "<table border=\"1\" class=\"dataframe\">\n",
       "  <thead>\n",
       "    <tr style=\"text-align: right;\">\n",
       "      <th></th>\n",
       "      <th>Congruent</th>\n",
       "      <th>Incongruent</th>\n",
       "      <th>S_no</th>\n",
       "      <th>Difference</th>\n",
       "      <th>Difference - mean</th>\n",
       "      <th>Squared-Difference</th>\n",
       "    </tr>\n",
       "  </thead>\n",
       "  <tbody>\n",
       "    <tr>\n",
       "      <th>0</th>\n",
       "      <td>12.079</td>\n",
       "      <td>19.278</td>\n",
       "      <td>1</td>\n",
       "      <td>7.199</td>\n",
       "      <td>-0.765792</td>\n",
       "      <td>0.586437</td>\n",
       "    </tr>\n",
       "    <tr>\n",
       "      <th>1</th>\n",
       "      <td>16.791</td>\n",
       "      <td>18.741</td>\n",
       "      <td>2</td>\n",
       "      <td>1.950</td>\n",
       "      <td>-6.014792</td>\n",
       "      <td>36.177719</td>\n",
       "    </tr>\n",
       "    <tr>\n",
       "      <th>2</th>\n",
       "      <td>9.564</td>\n",
       "      <td>21.214</td>\n",
       "      <td>3</td>\n",
       "      <td>11.650</td>\n",
       "      <td>3.685208</td>\n",
       "      <td>13.580760</td>\n",
       "    </tr>\n",
       "    <tr>\n",
       "      <th>3</th>\n",
       "      <td>8.630</td>\n",
       "      <td>15.687</td>\n",
       "      <td>4</td>\n",
       "      <td>7.057</td>\n",
       "      <td>-0.907792</td>\n",
       "      <td>0.824086</td>\n",
       "    </tr>\n",
       "    <tr>\n",
       "      <th>4</th>\n",
       "      <td>14.669</td>\n",
       "      <td>22.803</td>\n",
       "      <td>5</td>\n",
       "      <td>8.134</td>\n",
       "      <td>0.169208</td>\n",
       "      <td>0.028631</td>\n",
       "    </tr>\n",
       "    <tr>\n",
       "      <th>5</th>\n",
       "      <td>12.238</td>\n",
       "      <td>20.878</td>\n",
       "      <td>6</td>\n",
       "      <td>8.640</td>\n",
       "      <td>0.675208</td>\n",
       "      <td>0.455906</td>\n",
       "    </tr>\n",
       "    <tr>\n",
       "      <th>6</th>\n",
       "      <td>14.692</td>\n",
       "      <td>24.572</td>\n",
       "      <td>7</td>\n",
       "      <td>9.880</td>\n",
       "      <td>1.915208</td>\n",
       "      <td>3.668023</td>\n",
       "    </tr>\n",
       "    <tr>\n",
       "      <th>7</th>\n",
       "      <td>8.987</td>\n",
       "      <td>17.394</td>\n",
       "      <td>8</td>\n",
       "      <td>8.407</td>\n",
       "      <td>0.442208</td>\n",
       "      <td>0.195548</td>\n",
       "    </tr>\n",
       "    <tr>\n",
       "      <th>8</th>\n",
       "      <td>9.401</td>\n",
       "      <td>20.762</td>\n",
       "      <td>9</td>\n",
       "      <td>11.361</td>\n",
       "      <td>3.396208</td>\n",
       "      <td>11.534231</td>\n",
       "    </tr>\n",
       "    <tr>\n",
       "      <th>9</th>\n",
       "      <td>14.480</td>\n",
       "      <td>26.282</td>\n",
       "      <td>10</td>\n",
       "      <td>11.802</td>\n",
       "      <td>3.837208</td>\n",
       "      <td>14.724168</td>\n",
       "    </tr>\n",
       "    <tr>\n",
       "      <th>10</th>\n",
       "      <td>22.328</td>\n",
       "      <td>24.524</td>\n",
       "      <td>11</td>\n",
       "      <td>2.196</td>\n",
       "      <td>-5.768792</td>\n",
       "      <td>33.278957</td>\n",
       "    </tr>\n",
       "    <tr>\n",
       "      <th>11</th>\n",
       "      <td>15.298</td>\n",
       "      <td>18.644</td>\n",
       "      <td>12</td>\n",
       "      <td>3.346</td>\n",
       "      <td>-4.618792</td>\n",
       "      <td>21.333236</td>\n",
       "    </tr>\n",
       "    <tr>\n",
       "      <th>12</th>\n",
       "      <td>15.073</td>\n",
       "      <td>17.510</td>\n",
       "      <td>13</td>\n",
       "      <td>2.437</td>\n",
       "      <td>-5.527792</td>\n",
       "      <td>30.556481</td>\n",
       "    </tr>\n",
       "    <tr>\n",
       "      <th>13</th>\n",
       "      <td>16.929</td>\n",
       "      <td>20.330</td>\n",
       "      <td>14</td>\n",
       "      <td>3.401</td>\n",
       "      <td>-4.563792</td>\n",
       "      <td>20.828194</td>\n",
       "    </tr>\n",
       "    <tr>\n",
       "      <th>14</th>\n",
       "      <td>18.200</td>\n",
       "      <td>35.255</td>\n",
       "      <td>15</td>\n",
       "      <td>17.055</td>\n",
       "      <td>9.090208</td>\n",
       "      <td>82.631888</td>\n",
       "    </tr>\n",
       "    <tr>\n",
       "      <th>15</th>\n",
       "      <td>12.130</td>\n",
       "      <td>22.158</td>\n",
       "      <td>16</td>\n",
       "      <td>10.028</td>\n",
       "      <td>2.063208</td>\n",
       "      <td>4.256829</td>\n",
       "    </tr>\n",
       "    <tr>\n",
       "      <th>16</th>\n",
       "      <td>18.495</td>\n",
       "      <td>25.139</td>\n",
       "      <td>17</td>\n",
       "      <td>6.644</td>\n",
       "      <td>-1.320792</td>\n",
       "      <td>1.744491</td>\n",
       "    </tr>\n",
       "    <tr>\n",
       "      <th>17</th>\n",
       "      <td>10.639</td>\n",
       "      <td>20.429</td>\n",
       "      <td>18</td>\n",
       "      <td>9.790</td>\n",
       "      <td>1.825208</td>\n",
       "      <td>3.331385</td>\n",
       "    </tr>\n",
       "    <tr>\n",
       "      <th>18</th>\n",
       "      <td>11.344</td>\n",
       "      <td>17.425</td>\n",
       "      <td>19</td>\n",
       "      <td>6.081</td>\n",
       "      <td>-1.883792</td>\n",
       "      <td>3.548671</td>\n",
       "    </tr>\n",
       "    <tr>\n",
       "      <th>19</th>\n",
       "      <td>12.369</td>\n",
       "      <td>34.288</td>\n",
       "      <td>20</td>\n",
       "      <td>21.919</td>\n",
       "      <td>13.954208</td>\n",
       "      <td>194.719930</td>\n",
       "    </tr>\n",
       "    <tr>\n",
       "      <th>20</th>\n",
       "      <td>12.944</td>\n",
       "      <td>23.894</td>\n",
       "      <td>21</td>\n",
       "      <td>10.950</td>\n",
       "      <td>2.985208</td>\n",
       "      <td>8.911469</td>\n",
       "    </tr>\n",
       "    <tr>\n",
       "      <th>21</th>\n",
       "      <td>14.233</td>\n",
       "      <td>17.960</td>\n",
       "      <td>22</td>\n",
       "      <td>3.727</td>\n",
       "      <td>-4.237792</td>\n",
       "      <td>17.958878</td>\n",
       "    </tr>\n",
       "    <tr>\n",
       "      <th>22</th>\n",
       "      <td>19.710</td>\n",
       "      <td>22.058</td>\n",
       "      <td>23</td>\n",
       "      <td>2.348</td>\n",
       "      <td>-5.616792</td>\n",
       "      <td>31.548349</td>\n",
       "    </tr>\n",
       "    <tr>\n",
       "      <th>23</th>\n",
       "      <td>16.004</td>\n",
       "      <td>21.157</td>\n",
       "      <td>24</td>\n",
       "      <td>5.153</td>\n",
       "      <td>-2.811792</td>\n",
       "      <td>7.906172</td>\n",
       "    </tr>\n",
       "  </tbody>\n",
       "</table>\n",
       "</div>"
      ],
      "text/plain": [
       "    Congruent  Incongruent  S_no  Difference  Difference - mean  \\\n",
       "0      12.079       19.278     1       7.199          -0.765792   \n",
       "1      16.791       18.741     2       1.950          -6.014792   \n",
       "2       9.564       21.214     3      11.650           3.685208   \n",
       "3       8.630       15.687     4       7.057          -0.907792   \n",
       "4      14.669       22.803     5       8.134           0.169208   \n",
       "5      12.238       20.878     6       8.640           0.675208   \n",
       "6      14.692       24.572     7       9.880           1.915208   \n",
       "7       8.987       17.394     8       8.407           0.442208   \n",
       "8       9.401       20.762     9      11.361           3.396208   \n",
       "9      14.480       26.282    10      11.802           3.837208   \n",
       "10     22.328       24.524    11       2.196          -5.768792   \n",
       "11     15.298       18.644    12       3.346          -4.618792   \n",
       "12     15.073       17.510    13       2.437          -5.527792   \n",
       "13     16.929       20.330    14       3.401          -4.563792   \n",
       "14     18.200       35.255    15      17.055           9.090208   \n",
       "15     12.130       22.158    16      10.028           2.063208   \n",
       "16     18.495       25.139    17       6.644          -1.320792   \n",
       "17     10.639       20.429    18       9.790           1.825208   \n",
       "18     11.344       17.425    19       6.081          -1.883792   \n",
       "19     12.369       34.288    20      21.919          13.954208   \n",
       "20     12.944       23.894    21      10.950           2.985208   \n",
       "21     14.233       17.960    22       3.727          -4.237792   \n",
       "22     19.710       22.058    23       2.348          -5.616792   \n",
       "23     16.004       21.157    24       5.153          -2.811792   \n",
       "\n",
       "    Squared-Difference  \n",
       "0             0.586437  \n",
       "1            36.177719  \n",
       "2            13.580760  \n",
       "3             0.824086  \n",
       "4             0.028631  \n",
       "5             0.455906  \n",
       "6             3.668023  \n",
       "7             0.195548  \n",
       "8            11.534231  \n",
       "9            14.724168  \n",
       "10           33.278957  \n",
       "11           21.333236  \n",
       "12           30.556481  \n",
       "13           20.828194  \n",
       "14           82.631888  \n",
       "15            4.256829  \n",
       "16            1.744491  \n",
       "17            3.331385  \n",
       "18            3.548671  \n",
       "19          194.719930  \n",
       "20            8.911469  \n",
       "21           17.958878  \n",
       "22           31.548349  \n",
       "23            7.906172  "
      ]
     },
     "execution_count": 154,
     "metadata": {},
     "output_type": "execute_result"
    }
   ],
   "source": [
    "## Calculating the Sample Standard devation of the difference s \n",
    "## s = sqrt(SDD/(n-1)\n",
    "\n",
    "## Calcuating the difference of the values for both the sample \n",
    "\n",
    "stroop_data['Difference'] = stroop_data['Incongruent'] - stroop_data['Congruent']\n",
    "\n",
    "## Subtracting mean from the differecne\n",
    "\n",
    "stroop_data['Difference - mean'] = stroop_data['Difference'] - stroop_data['Difference'].mean()\n",
    "\n",
    "## Squaring the difference to give us \n",
    "\n",
    "stroop_data['Squared-Difference'] = stroop_data['Difference - mean'] * stroop_data['Difference - mean']\n",
    "\n",
    "## Calculating the SDD Sum of squared difference\n",
    "\n",
    "SDD = stroop_data['Squared-Difference'].sum()\n",
    "\n",
    "## Calculating the variance v = SDD/(n-1)  \n",
    "## [** we are using bessels correction as the given data is a sample and not a population]\n",
    "\n",
    "varience = SDD/(n-1)\n",
    "\n",
    "## Calcualting s = stadnard devation for the sample difference\n",
    "\n",
    "s = sqrt(varience)\n",
    "\n",
    "stroop_data\n"
   ]
  },
  {
   "cell_type": "code",
   "execution_count": 155,
   "metadata": {
    "scrolled": true
   },
   "outputs": [
    {
     "name": "stdout",
     "output_type": "stream",
     "text": [
      "Squared difference SDD = 544.33\n",
      "Varience v = 23.67\n",
      "Sample Standard devation of the difference s = 4.86\n",
      "Standard error SE = 0.99\n"
     ]
    }
   ],
   "source": [
    "print(\"Squared difference SDD = {}\\nVarience v = {}\\nSample Standard devation of the difference s = {}\"\n",
    "      .format(round(SDD,2),round(varience,2),round(s,2)))\n",
    "\n",
    "## Calculating Standard error SE\n",
    "## SE = s/sqrt(n)\n",
    "\n",
    "SE = s/sqrt(n)\n",
    "print(\"Standard error SE = {}\".format(round(SE,2)))\n"
   ]
  },
  {
   "cell_type": "code",
   "execution_count": 156,
   "metadata": {},
   "outputs": [
    {
     "name": "stdout",
     "output_type": "stream",
     "text": [
      "t statistic = 8.0207\n",
      "Since t 8.0207 > tcritical 2.069 \n",
      "we can recjet the null hypothesis\n"
     ]
    }
   ],
   "source": [
    "## Computing t statistic \n",
    "## t = Pointestimate/SE\n",
    "tc = 2.069\n",
    "t = point_estimate/SE\n",
    "\n",
    "print(\"t statistic = {}\".format(round(t,4)))\n",
    "\n",
    "print(\"Since t {} > tcritical {} \\nwe can recjet the null hypothesis\".format(round(t,4),tc))\n",
    "\n",
    "\n"
   ]
  },
  {
   "cell_type": "markdown",
   "metadata": {},
   "source": [
    "### Conclusion\n",
    "\n",
    "- Hence we Conclude that it takes less time to recognise Congruent words(Words named and coloured the same) while it takes a bit more time to recognise In-Congruent Words. \n",
    "\n",
    "- Since t is greater than t critical it lies in the region where its unlikely to occur by chance and hence we cannot have same response time for congruent and incogeuent words\n",
    "\n",
    "- **Hence we Reject the null hypothesis that their is no difference in response time for the two types of the word**\n",
    "\n"
   ]
  },
  {
   "cell_type": "markdown",
   "metadata": {},
   "source": [
    "## Q6 Optional: What do you think is responsible for the effects observed? Can you think of an alternative or similar task that would result in a similar effect? Some research about the problem will be helpful for thinking about these two questions!\n",
    "\n",
    "## ANS:-\n",
    "\n",
    "- 1 .The ability of our brain to create a image for remembering different objects is the cause since on looking at a colour our brain can response very quickly due to perceptive memory while for processing the same color name on different color takes time\n",
    "\n",
    "\n",
    "- 2. Yes jumbled up images and words ie if we display a image of a ship and call it a tree or vice versa it should show similar kind of impact as here also our brain relies on perceptive memory\n",
    "\n",
    "\n",
    "- 3. It can also be done by interchanging the names of two people for a day and then see the difference your selves !"
   ]
  },
  {
   "cell_type": "markdown",
   "metadata": {},
   "source": [
    "## Resources\n",
    "\n",
    "- 1. Keydifference :- [link]('https://keydifferences.com/difference-between-null-andalternative-hypothesis.html')\n",
    "\n",
    "- 2. Wikipedia:- [link]('https://www.wikipedia.org/')\n",
    "\n",
    "- 3. matplotlib:- [link]('https://matplotlib.org/api/_as_gen/matplotlib.pyplot.scatter.html')"
   ]
  },
  {
   "cell_type": "code",
   "execution_count": null,
   "metadata": {},
   "outputs": [],
   "source": []
  }
 ],
 "metadata": {
  "kernelspec": {
   "display_name": "Python [conda env:py36-test]",
   "language": "python",
   "name": "conda-env-py36-test-py"
  },
  "language_info": {
   "codemirror_mode": {
    "name": "ipython",
    "version": 3
   },
   "file_extension": ".py",
   "mimetype": "text/x-python",
   "name": "python",
   "nbconvert_exporter": "python",
   "pygments_lexer": "ipython3",
   "version": "3.6.5"
  }
 },
 "nbformat": 4,
 "nbformat_minor": 2
}
